{
 "cells": [
  {
   "cell_type": "markdown",
   "metadata": {},
   "source": [
    "# Install Dependencies"
   ]
  },
  {
   "cell_type": "code",
   "execution_count": 1,
   "metadata": {},
   "outputs": [
    {
     "name": "stdout",
     "output_type": "stream",
     "text": [
      "Requirement already satisfied: requests in /opt/homebrew/lib/python3.11/site-packages (2.31.0)\n",
      "Requirement already satisfied: playwright in /opt/homebrew/lib/python3.11/site-packages (1.39.0)\n",
      "Requirement already satisfied: beautifulsoup4 in /opt/homebrew/lib/python3.11/site-packages (4.12.2)\n",
      "Requirement already satisfied: charset-normalizer<4,>=2 in /opt/homebrew/lib/python3.11/site-packages (from requests) (3.2.0)\n",
      "Requirement already satisfied: idna<4,>=2.5 in /opt/homebrew/lib/python3.11/site-packages (from requests) (3.4)\n",
      "Requirement already satisfied: urllib3<3,>=1.21.1 in /opt/homebrew/lib/python3.11/site-packages (from requests) (2.0.4)\n",
      "Requirement already satisfied: certifi>=2017.4.17 in /opt/homebrew/lib/python3.11/site-packages (from requests) (2023.7.22)\n",
      "Requirement already satisfied: greenlet==3.0.0 in /opt/homebrew/lib/python3.11/site-packages (from playwright) (3.0.0)\n",
      "Requirement already satisfied: pyee==11.0.1 in /opt/homebrew/lib/python3.11/site-packages (from playwright) (11.0.1)\n",
      "Requirement already satisfied: typing-extensions in /opt/homebrew/lib/python3.11/site-packages (from pyee==11.0.1->playwright) (4.7.1)\n",
      "Requirement already satisfied: soupsieve>1.2 in /opt/homebrew/lib/python3.11/site-packages (from beautifulsoup4) (2.5)\n"
     ]
    }
   ],
   "source": [
    "!pip3 install requests playwright beautifulsoup4"
   ]
  },
  {
   "cell_type": "code",
   "execution_count": 2,
   "metadata": {},
   "outputs": [],
   "source": [
    "!playwright install"
   ]
  },
  {
   "cell_type": "markdown",
   "metadata": {},
   "source": [
    "# Scrape Pinterest for Images"
   ]
  },
  {
   "cell_type": "code",
   "execution_count": 3,
   "metadata": {},
   "outputs": [],
   "source": [
    "url = \"https://www.pinterest.com\"\n",
    "slug = \"/pin/438889926200478583/\"\n",
    "depth = 2\n",
    "concurrent = 10"
   ]
  },
  {
   "cell_type": "code",
   "execution_count": 4,
   "metadata": {},
   "outputs": [],
   "source": [
    "#@markdown Download main image from Pinterest page\n",
    "import requests\n",
    "from bs4 import BeautifulSoup\n",
    "\n",
    "def download_image(url, name):\n",
    "    response = requests.get(url)\n",
    "    soup = BeautifulSoup(response.text, 'html.parser')\n",
    "    images = soup.find_all('img')\n",
    "\n",
    "    main_image = images[0]\n",
    "    src = main_image.get('src')\n",
    "    response = requests.get(src)\n",
    "    with open(f\"data/pinterest/{name}.jpg\", \"wb\") as f:\n",
    "        f.write(response.content)"
   ]
  },
  {
   "cell_type": "code",
   "execution_count": 5,
   "metadata": {},
   "outputs": [],
   "source": [
    "#@markdown Get recommended images from a Pinterest page\n",
    "import asyncio\n",
    "from playwright.async_api import async_playwright\n",
    "\n",
    "async def get_recommended(link):\n",
    "    async with async_playwright() as p:\n",
    "        browser = await p.chromium.launch(headless=False)\n",
    "        page = await browser.new_page()\n",
    "        await page.goto(link)\n",
    "\n",
    "        # Scroll down to load more images\n",
    "        for _ in range(2): # One minute\n",
    "            await page.evaluate(\"window.scrollTo(0, document.body.scrollHeight)\")\n",
    "            await asyncio.sleep(5)\n",
    "\n",
    "        suggestions = await page.query_selector_all('a')\n",
    "        links = []\n",
    "        for suggestion in suggestions:\n",
    "            href = await suggestion.get_attribute('href')\n",
    "            if '/pin/' in href:\n",
    "                links.append(href)\n",
    "        \n",
    "        await browser.close()\n",
    "\n",
    "        print(f\"Found {len(links)} pins\")\n",
    "        return links"
   ]
  },
  {
   "cell_type": "code",
   "execution_count": 6,
   "metadata": {},
   "outputs": [],
   "source": [
    "async def find_recommended(link, depth, seen=None):\n",
    "    if seen is None:\n",
    "        seen = set()\n",
    "        \n",
    "    if depth == 0 or link in seen:\n",
    "        return set()\n",
    "    \n",
    "    seen.add(link)\n",
    "    recommended = await get_recommended(url + link)\n",
    "    all_recommended = set(recommended)\n",
    "    \n",
    "    if depth > 1:\n",
    "        tasks = [find_recommended(pin, depth - 1, seen) for pin in recommended if pin not in seen]\n",
    "        results = await asyncio.gather(*tasks)\n",
    "        for result in results:\n",
    "            all_recommended.update(result)\n",
    "    \n",
    "    print(f\"Found {len(all_recommended)} total pins\")\n",
    "    return all_recommended"
   ]
  },
  {
   "cell_type": "code",
   "execution_count": 83,
   "metadata": {},
   "outputs": [
    {
     "name": "stdout",
     "output_type": "stream",
     "text": [
      "Found 46 pins\n",
      "Found 18 pins\n",
      "Found 18 pins\n",
      "Found 18 pins\n",
      "Found 20 pins\n",
      "Found 18 pins\n",
      "Found 16 pins\n",
      "Found 18 pins\n",
      "Found 20 pins\n",
      "Found 20 pins\n",
      "Found 16 pins\n",
      "Found 20 pins\n",
      "Found 20 pins\n",
      "Found 20 pins\n",
      "Found 22 pins\n",
      "Found 20 pins\n",
      "Found 20 pins\n"
     ]
    },
    {
     "ename": "Error",
     "evalue": "Unable to adopt element handle from a different document",
     "output_type": "error",
     "traceback": [
      "\u001b[0;31m---------------------------------------------------------------------------\u001b[0m",
      "\u001b[0;31mError\u001b[0m                                     Traceback (most recent call last)",
      "\u001b[1;32m/Users/pandoks/Documents/diagramatic-architecture/data-collection/pinterest.ipynb Cell 9\u001b[0m line \u001b[0;36m1\n\u001b[0;32m----> <a href='vscode-notebook-cell:/Users/pandoks/Documents/diagramatic-architecture/data-collection/pinterest.ipynb#X12sZmlsZQ%3D%3D?line=0'>1</a>\u001b[0m recommended \u001b[39m=\u001b[39m \u001b[39mawait\u001b[39;00m find_recommended(slug, depth)\n\u001b[1;32m      <a href='vscode-notebook-cell:/Users/pandoks/Documents/diagramatic-architecture/data-collection/pinterest.ipynb#X12sZmlsZQ%3D%3D?line=1'>2</a>\u001b[0m \u001b[39mfor\u001b[39;00m i, pin \u001b[39min\u001b[39;00m \u001b[39menumerate\u001b[39m(recommended):\n\u001b[1;32m      <a href='vscode-notebook-cell:/Users/pandoks/Documents/diagramatic-architecture/data-collection/pinterest.ipynb#X12sZmlsZQ%3D%3D?line=2'>3</a>\u001b[0m     download_image(url \u001b[39m+\u001b[39m pin, \u001b[39mstr\u001b[39m(i))\n",
      "\u001b[1;32m/Users/pandoks/Documents/diagramatic-architecture/data-collection/pinterest.ipynb Cell 9\u001b[0m line \u001b[0;36m1\n\u001b[1;32m     <a href='vscode-notebook-cell:/Users/pandoks/Documents/diagramatic-architecture/data-collection/pinterest.ipynb#X12sZmlsZQ%3D%3D?line=11'>12</a>\u001b[0m \u001b[39mif\u001b[39;00m depth \u001b[39m>\u001b[39m \u001b[39m1\u001b[39m:\n\u001b[1;32m     <a href='vscode-notebook-cell:/Users/pandoks/Documents/diagramatic-architecture/data-collection/pinterest.ipynb#X12sZmlsZQ%3D%3D?line=12'>13</a>\u001b[0m     tasks \u001b[39m=\u001b[39m [find_recommended(pin, depth \u001b[39m-\u001b[39m \u001b[39m1\u001b[39m, seen) \u001b[39mfor\u001b[39;00m pin \u001b[39min\u001b[39;00m recommended \u001b[39mif\u001b[39;00m pin \u001b[39mnot\u001b[39;00m \u001b[39min\u001b[39;00m seen]\n\u001b[0;32m---> <a href='vscode-notebook-cell:/Users/pandoks/Documents/diagramatic-architecture/data-collection/pinterest.ipynb#X12sZmlsZQ%3D%3D?line=13'>14</a>\u001b[0m     results \u001b[39m=\u001b[39m \u001b[39mawait\u001b[39;00m asyncio\u001b[39m.\u001b[39mgather(\u001b[39m*\u001b[39mtasks)\n\u001b[1;32m     <a href='vscode-notebook-cell:/Users/pandoks/Documents/diagramatic-architecture/data-collection/pinterest.ipynb#X12sZmlsZQ%3D%3D?line=14'>15</a>\u001b[0m     \u001b[39mfor\u001b[39;00m result \u001b[39min\u001b[39;00m results:\n\u001b[1;32m     <a href='vscode-notebook-cell:/Users/pandoks/Documents/diagramatic-architecture/data-collection/pinterest.ipynb#X12sZmlsZQ%3D%3D?line=15'>16</a>\u001b[0m         all_recommended\u001b[39m.\u001b[39mupdate(result)\n",
      "\u001b[1;32m/Users/pandoks/Documents/diagramatic-architecture/data-collection/pinterest.ipynb Cell 9\u001b[0m line \u001b[0;36m1\n\u001b[1;32m     <a href='vscode-notebook-cell:/Users/pandoks/Documents/diagramatic-architecture/data-collection/pinterest.ipynb#X12sZmlsZQ%3D%3D?line=11'>12</a>\u001b[0m \u001b[39mif\u001b[39;00m depth \u001b[39m>\u001b[39m \u001b[39m1\u001b[39m:\n\u001b[1;32m     <a href='vscode-notebook-cell:/Users/pandoks/Documents/diagramatic-architecture/data-collection/pinterest.ipynb#X12sZmlsZQ%3D%3D?line=12'>13</a>\u001b[0m     tasks \u001b[39m=\u001b[39m [find_recommended(pin, depth \u001b[39m-\u001b[39m \u001b[39m1\u001b[39m, seen) \u001b[39mfor\u001b[39;00m pin \u001b[39min\u001b[39;00m recommended \u001b[39mif\u001b[39;00m pin \u001b[39mnot\u001b[39;00m \u001b[39min\u001b[39;00m seen]\n\u001b[0;32m---> <a href='vscode-notebook-cell:/Users/pandoks/Documents/diagramatic-architecture/data-collection/pinterest.ipynb#X12sZmlsZQ%3D%3D?line=13'>14</a>\u001b[0m     results \u001b[39m=\u001b[39m \u001b[39mawait\u001b[39;00m asyncio\u001b[39m.\u001b[39mgather(\u001b[39m*\u001b[39mtasks)\n\u001b[1;32m     <a href='vscode-notebook-cell:/Users/pandoks/Documents/diagramatic-architecture/data-collection/pinterest.ipynb#X12sZmlsZQ%3D%3D?line=14'>15</a>\u001b[0m     \u001b[39mfor\u001b[39;00m result \u001b[39min\u001b[39;00m results:\n\u001b[1;32m     <a href='vscode-notebook-cell:/Users/pandoks/Documents/diagramatic-architecture/data-collection/pinterest.ipynb#X12sZmlsZQ%3D%3D?line=15'>16</a>\u001b[0m         all_recommended\u001b[39m.\u001b[39mupdate(result)\n",
      "\u001b[1;32m/Users/pandoks/Documents/diagramatic-architecture/data-collection/pinterest.ipynb Cell 9\u001b[0m line \u001b[0;36m9\n\u001b[1;32m      <a href='vscode-notebook-cell:/Users/pandoks/Documents/diagramatic-architecture/data-collection/pinterest.ipynb#X12sZmlsZQ%3D%3D?line=5'>6</a>\u001b[0m     \u001b[39mreturn\u001b[39;00m \u001b[39mset\u001b[39m()\n\u001b[1;32m      <a href='vscode-notebook-cell:/Users/pandoks/Documents/diagramatic-architecture/data-collection/pinterest.ipynb#X12sZmlsZQ%3D%3D?line=7'>8</a>\u001b[0m seen\u001b[39m.\u001b[39madd(link)\n\u001b[0;32m----> <a href='vscode-notebook-cell:/Users/pandoks/Documents/diagramatic-architecture/data-collection/pinterest.ipynb#X12sZmlsZQ%3D%3D?line=8'>9</a>\u001b[0m recommended \u001b[39m=\u001b[39m \u001b[39mawait\u001b[39;00m get_recommended(url \u001b[39m+\u001b[39m link)\n\u001b[1;32m     <a href='vscode-notebook-cell:/Users/pandoks/Documents/diagramatic-architecture/data-collection/pinterest.ipynb#X12sZmlsZQ%3D%3D?line=9'>10</a>\u001b[0m all_recommended \u001b[39m=\u001b[39m \u001b[39mset\u001b[39m(recommended)\n\u001b[1;32m     <a href='vscode-notebook-cell:/Users/pandoks/Documents/diagramatic-architecture/data-collection/pinterest.ipynb#X12sZmlsZQ%3D%3D?line=11'>12</a>\u001b[0m \u001b[39mif\u001b[39;00m depth \u001b[39m>\u001b[39m \u001b[39m1\u001b[39m:\n",
      "\u001b[1;32m/Users/pandoks/Documents/diagramatic-architecture/data-collection/pinterest.ipynb Cell 9\u001b[0m line \u001b[0;36m1\n\u001b[1;32m     <a href='vscode-notebook-cell:/Users/pandoks/Documents/diagramatic-architecture/data-collection/pinterest.ipynb#X12sZmlsZQ%3D%3D?line=12'>13</a>\u001b[0m     \u001b[39mawait\u001b[39;00m page\u001b[39m.\u001b[39mevaluate(\u001b[39m\"\u001b[39m\u001b[39mwindow.scrollTo(0, document.body.scrollHeight)\u001b[39m\u001b[39m\"\u001b[39m)\n\u001b[1;32m     <a href='vscode-notebook-cell:/Users/pandoks/Documents/diagramatic-architecture/data-collection/pinterest.ipynb#X12sZmlsZQ%3D%3D?line=13'>14</a>\u001b[0m     \u001b[39mawait\u001b[39;00m asyncio\u001b[39m.\u001b[39msleep(\u001b[39m5\u001b[39m)\n\u001b[0;32m---> <a href='vscode-notebook-cell:/Users/pandoks/Documents/diagramatic-architecture/data-collection/pinterest.ipynb#X12sZmlsZQ%3D%3D?line=15'>16</a>\u001b[0m suggestions \u001b[39m=\u001b[39m \u001b[39mawait\u001b[39;00m page\u001b[39m.\u001b[39mquery_selector_all(\u001b[39m'\u001b[39m\u001b[39ma\u001b[39m\u001b[39m'\u001b[39m)\n\u001b[1;32m     <a href='vscode-notebook-cell:/Users/pandoks/Documents/diagramatic-architecture/data-collection/pinterest.ipynb#X12sZmlsZQ%3D%3D?line=16'>17</a>\u001b[0m links \u001b[39m=\u001b[39m []\n\u001b[1;32m     <a href='vscode-notebook-cell:/Users/pandoks/Documents/diagramatic-architecture/data-collection/pinterest.ipynb#X12sZmlsZQ%3D%3D?line=17'>18</a>\u001b[0m \u001b[39mfor\u001b[39;00m suggestion \u001b[39min\u001b[39;00m suggestions:\n",
      "File \u001b[0;32m/opt/homebrew/lib/python3.11/site-packages/playwright/async_api/_generated.py:8217\u001b[0m, in \u001b[0;36mPage.query_selector_all\u001b[0;34m(self, selector)\u001b[0m\n\u001b[1;32m   8200\u001b[0m \u001b[39masync\u001b[39;00m \u001b[39mdef\u001b[39;00m \u001b[39mquery_selector_all\u001b[39m(\u001b[39mself\u001b[39m, selector: \u001b[39mstr\u001b[39m) \u001b[39m-\u001b[39m\u001b[39m>\u001b[39m typing\u001b[39m.\u001b[39mList[\u001b[39m\"\u001b[39m\u001b[39mElementHandle\u001b[39m\u001b[39m\"\u001b[39m]:\n\u001b[1;32m   8201\u001b[0m \u001b[39m    \u001b[39m\u001b[39m\"\"\"Page.query_selector_all\u001b[39;00m\n\u001b[1;32m   8202\u001b[0m \n\u001b[1;32m   8203\u001b[0m \u001b[39m    The method finds all elements matching the specified selector within the page. If no elements match the selector,\u001b[39;00m\n\u001b[0;32m   (...)\u001b[0m\n\u001b[1;32m   8213\u001b[0m \u001b[39m    List[ElementHandle]\u001b[39;00m\n\u001b[1;32m   8214\u001b[0m \u001b[39m    \"\"\"\u001b[39;00m\n\u001b[1;32m   8216\u001b[0m     \u001b[39mreturn\u001b[39;00m mapping\u001b[39m.\u001b[39mfrom_impl_list(\n\u001b[0;32m-> 8217\u001b[0m         \u001b[39mawait\u001b[39;00m \u001b[39mself\u001b[39m\u001b[39m.\u001b[39m_impl_obj\u001b[39m.\u001b[39mquery_selector_all(selector\u001b[39m=\u001b[39mselector)\n\u001b[1;32m   8218\u001b[0m     )\n",
      "File \u001b[0;32m/opt/homebrew/lib/python3.11/site-packages/playwright/_impl/_page.py:337\u001b[0m, in \u001b[0;36mPage.query_selector_all\u001b[0;34m(self, selector)\u001b[0m\n\u001b[1;32m    336\u001b[0m \u001b[39masync\u001b[39;00m \u001b[39mdef\u001b[39;00m \u001b[39mquery_selector_all\u001b[39m(\u001b[39mself\u001b[39m, selector: \u001b[39mstr\u001b[39m) \u001b[39m-\u001b[39m\u001b[39m>\u001b[39m List[ElementHandle]:\n\u001b[0;32m--> 337\u001b[0m     \u001b[39mreturn\u001b[39;00m \u001b[39mawait\u001b[39;00m \u001b[39mself\u001b[39m\u001b[39m.\u001b[39m_main_frame\u001b[39m.\u001b[39mquery_selector_all(selector)\n",
      "File \u001b[0;32m/opt/homebrew/lib/python3.11/site-packages/playwright/_impl/_frame.py:304\u001b[0m, in \u001b[0;36mFrame.query_selector_all\u001b[0;34m(self, selector)\u001b[0m\n\u001b[1;32m    300\u001b[0m \u001b[39masync\u001b[39;00m \u001b[39mdef\u001b[39;00m \u001b[39mquery_selector_all\u001b[39m(\u001b[39mself\u001b[39m, selector: \u001b[39mstr\u001b[39m) \u001b[39m-\u001b[39m\u001b[39m>\u001b[39m List[ElementHandle]:\n\u001b[1;32m    301\u001b[0m     \u001b[39mreturn\u001b[39;00m \u001b[39mlist\u001b[39m(\n\u001b[1;32m    302\u001b[0m         \u001b[39mmap\u001b[39m(\n\u001b[1;32m    303\u001b[0m             from_channel,\n\u001b[0;32m--> 304\u001b[0m             \u001b[39mawait\u001b[39;00m \u001b[39mself\u001b[39m\u001b[39m.\u001b[39m_channel\u001b[39m.\u001b[39msend(\u001b[39m\"\u001b[39m\u001b[39mquerySelectorAll\u001b[39m\u001b[39m\"\u001b[39m, \u001b[39mdict\u001b[39m(selector\u001b[39m=\u001b[39mselector)),\n\u001b[1;32m    305\u001b[0m         )\n\u001b[1;32m    306\u001b[0m     )\n",
      "File \u001b[0;32m/opt/homebrew/lib/python3.11/site-packages/playwright/_impl/_connection.py:61\u001b[0m, in \u001b[0;36mChannel.send\u001b[0;34m(self, method, params)\u001b[0m\n\u001b[1;32m     60\u001b[0m \u001b[39masync\u001b[39;00m \u001b[39mdef\u001b[39;00m \u001b[39msend\u001b[39m(\u001b[39mself\u001b[39m, method: \u001b[39mstr\u001b[39m, params: Dict \u001b[39m=\u001b[39m \u001b[39mNone\u001b[39;00m) \u001b[39m-\u001b[39m\u001b[39m>\u001b[39m Any:\n\u001b[0;32m---> 61\u001b[0m     \u001b[39mreturn\u001b[39;00m \u001b[39mawait\u001b[39;00m \u001b[39mself\u001b[39m\u001b[39m.\u001b[39m_connection\u001b[39m.\u001b[39mwrap_api_call(\n\u001b[1;32m     62\u001b[0m         \u001b[39mlambda\u001b[39;00m: \u001b[39mself\u001b[39m\u001b[39m.\u001b[39minner_send(method, params, \u001b[39mFalse\u001b[39;00m)\n\u001b[1;32m     63\u001b[0m     )\n",
      "File \u001b[0;32m/opt/homebrew/lib/python3.11/site-packages/playwright/_impl/_connection.py:490\u001b[0m, in \u001b[0;36mConnection.wrap_api_call\u001b[0;34m(self, cb, is_internal)\u001b[0m\n\u001b[1;32m    488\u001b[0m \u001b[39mself\u001b[39m\u001b[39m.\u001b[39m_api_zone\u001b[39m.\u001b[39mset(_extract_stack_trace_information_from_stack(st, is_internal))\n\u001b[1;32m    489\u001b[0m \u001b[39mtry\u001b[39;00m:\n\u001b[0;32m--> 490\u001b[0m     \u001b[39mreturn\u001b[39;00m \u001b[39mawait\u001b[39;00m cb()\n\u001b[1;32m    491\u001b[0m \u001b[39mfinally\u001b[39;00m:\n\u001b[1;32m    492\u001b[0m     \u001b[39mself\u001b[39m\u001b[39m.\u001b[39m_api_zone\u001b[39m.\u001b[39mset(\u001b[39mNone\u001b[39;00m)\n",
      "File \u001b[0;32m/opt/homebrew/lib/python3.11/site-packages/playwright/_impl/_connection.py:99\u001b[0m, in \u001b[0;36mChannel.inner_send\u001b[0;34m(self, method, params, return_as_dict)\u001b[0m\n\u001b[1;32m     97\u001b[0m \u001b[39mif\u001b[39;00m \u001b[39mnot\u001b[39;00m callback\u001b[39m.\u001b[39mfuture\u001b[39m.\u001b[39mdone():\n\u001b[1;32m     98\u001b[0m     callback\u001b[39m.\u001b[39mfuture\u001b[39m.\u001b[39mcancel()\n\u001b[0;32m---> 99\u001b[0m result \u001b[39m=\u001b[39m \u001b[39mnext\u001b[39m(\u001b[39miter\u001b[39m(done))\u001b[39m.\u001b[39mresult()\n\u001b[1;32m    100\u001b[0m \u001b[39m# Protocol now has named return values, assume result is one level deeper unless\u001b[39;00m\n\u001b[1;32m    101\u001b[0m \u001b[39m# there is explicit ambiguity.\u001b[39;00m\n\u001b[1;32m    102\u001b[0m \u001b[39mif\u001b[39;00m \u001b[39mnot\u001b[39;00m result:\n",
      "\u001b[0;31mError\u001b[0m: Unable to adopt element handle from a different document"
     ]
    },
    {
     "name": "stdout",
     "output_type": "stream",
     "text": [
      "Found 24 pins\n",
      "Found 22 pins\n",
      "Found 24 pins\n",
      "Found 24 pins\n",
      "Found 24 pins\n",
      "Found 24 pins\n",
      "Found 24 pins\n",
      "Found 0 pins\n",
      "Found 0 pins\n",
      "Found 0 total pins\n",
      "Found 0 total pins\n",
      "Found 0 pins\n",
      "Found 0 total pins\n",
      "Found 0 pins\n",
      "Found 0 total pins\n",
      "Found 44 pins\n",
      "Found 22 total pins\n",
      "Found 46 pins\n",
      "Found 23 total pins\n",
      "Found 46 pins\n",
      "Found 23 total pins\n"
     ]
    }
   ],
   "source": [
    "recommended = await find_recommended(slug, depth)\n",
    "for i, pin in enumerate(recommended):\n",
    "    download_image(url + pin, str(i))"
   ]
  },
  {
   "cell_type": "code",
   "execution_count": null,
   "metadata": {},
   "outputs": [],
   "source": []
  }
 ],
 "metadata": {
  "kernelspec": {
   "display_name": "Python 3",
   "language": "python",
   "name": "python3"
  },
  "language_info": {
   "codemirror_mode": {
    "name": "ipython",
    "version": 3
   },
   "file_extension": ".py",
   "mimetype": "text/x-python",
   "name": "python",
   "nbconvert_exporter": "python",
   "pygments_lexer": "ipython3",
   "version": "3.11.6"
  }
 },
 "nbformat": 4,
 "nbformat_minor": 2
}
